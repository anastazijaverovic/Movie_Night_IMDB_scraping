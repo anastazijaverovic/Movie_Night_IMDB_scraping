{
 "cells": [
  {
   "cell_type": "code",
   "execution_count": null,
   "metadata": {},
   "outputs": [],
   "source": [
    "## Noir Movies Random Generator - scraping the data from IMDB"
   ]
  },
  {
   "cell_type": "code",
   "execution_count": 54,
   "metadata": {},
   "outputs": [],
   "source": [
    "# importing the libraries\n",
    "\n",
    "from bs4 import BeautifulSoup   #scraping\n",
    "import requests   #requesting url to give required information\n",
    "import random"
   ]
  },
  {
   "cell_type": "code",
   "execution_count": 55,
   "metadata": {},
   "outputs": [],
   "source": [
    "# link\n",
    "headers = {'Accept-Language': 'en-US,en;q=0.8'}\n",
    "url = 'https://www.imdb.com/search/title/?title_type=feature&genres=film-noir&sort=user_rating,desc&view=simple'"
   ]
  },
  {
   "cell_type": "code",
   "execution_count": 56,
   "metadata": {},
   "outputs": [
    {
     "data": {
      "text/plain": [
       "<Response [200]>"
      ]
     },
     "execution_count": 56,
     "metadata": {},
     "output_type": "execute_result"
    }
   ],
   "source": [
    "# accessing the information from the url\n",
    "\n",
    "response = requests.get(url, headers = headers)\n",
    "response"
   ]
  },
  {
   "cell_type": "code",
   "execution_count": 57,
   "metadata": {},
   "outputs": [],
   "source": [
    "# get all the information in text format\n",
    "\n",
    "soup = BeautifulSoup(response.text)"
   ]
  },
  {
   "cell_type": "code",
   "execution_count": 58,
   "metadata": {},
   "outputs": [
    {
     "data": {
      "text/plain": [
       "['Double Indemnity',\n",
       " 'I Am a Fugitive from a Chain Gang',\n",
       " 'Ace in the Hole',\n",
       " 'White Heat',\n",
       " 'The Third Man',\n",
       " 'Touch of Evil',\n",
       " 'Sweet Smell of Success',\n",
       " 'The Killing',\n",
       " 'The Night of the Hunter',\n",
       " 'The Big Heat',\n",
       " 'In a Lonely Place',\n",
       " 'Out of the Past',\n",
       " 'Mildred Pierce',\n",
       " 'Laura',\n",
       " 'The Maltese Falcon',\n",
       " 'The Roaring Twenties',\n",
       " 'Strangers on a Train',\n",
       " 'Night and the City',\n",
       " 'The Asphalt Jungle']"
      ]
     },
     "execution_count": 58,
     "metadata": {},
     "output_type": "execute_result"
    }
   ],
   "source": [
    "# get all the titles\n",
    "\n",
    "llist = soup.find_all('div',{'class':'col-title'})\n",
    "# we cannot apply find_all to lists in python, but we can apply this on strings\n",
    "# we have to focus on the string section where the movie name lies, that is under <a> - find_all('a')\n",
    "\n",
    "movies = []\n",
    "\n",
    "for i in llist:\n",
    "    for j in i.find_all('a'):\n",
    "        movies.append(j.text)\n",
    "      \n",
    "top_20_movies = [movies[i] for i in range(1,20)]\n",
    "top_20_movies"
   ]
  },
  {
   "cell_type": "code",
   "execution_count": 64,
   "metadata": {},
   "outputs": [
    {
     "name": "stdout",
     "output_type": "stream",
     "text": [
      "Movie you are watching tonight:\n",
      "\n",
      "\n",
      "The Third Man\n"
     ]
    }
   ],
   "source": [
    "# get random movie\n",
    "\n",
    "print('Movie you are watching tonight:')\n",
    "print('\\n')\n",
    "print(random.choice(top_20_movies))"
   ]
  },
  {
   "cell_type": "code",
   "execution_count": null,
   "metadata": {},
   "outputs": [],
   "source": []
  }
 ],
 "metadata": {
  "kernelspec": {
   "display_name": "Python 3",
   "language": "python",
   "name": "python3"
  },
  "language_info": {
   "codemirror_mode": {
    "name": "ipython",
    "version": 3
   },
   "file_extension": ".py",
   "mimetype": "text/x-python",
   "name": "python",
   "nbconvert_exporter": "python",
   "pygments_lexer": "ipython3",
   "version": "3.8.5"
  }
 },
 "nbformat": 4,
 "nbformat_minor": 4
}
